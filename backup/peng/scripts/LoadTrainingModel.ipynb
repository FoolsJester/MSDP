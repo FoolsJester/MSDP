{
 "cells": [
  {
   "cell_type": "code",
   "execution_count": 46,
   "metadata": {},
   "outputs": [],
   "source": [
    "import pickle\n",
    "# reload trained model fomr clf file\n",
    "file = \"39A_b_2017_06.clf\"\n",
    "pkl_file = open(file, 'rb')\n",
    "new_clf = pickle.load(pkl_file)\n",
    "\n",
    "import csv\n",
    "import pandas as pd\n",
    "timeTableFile = \"39A_b_timeTable.csv\"\n",
    "df = pd.read_csv(timeTableFile, index_col=0)"
   ]
  },
  {
   "cell_type": "code",
   "execution_count": 47,
   "metadata": {},
   "outputs": [],
   "source": [
    "columns = df.columns.sort_values()"
   ]
  },
  {
   "cell_type": "code",
   "execution_count": 48,
   "metadata": {},
   "outputs": [
    {
     "name": "stdout",
     "output_type": "stream",
     "text": [
      "[7158.0, 7048.0, 7159.0, 7388.0, 7017.0, 7018.0, 7030.0, 7021.0, 6111.0, 6112.0, 6113.0, 1898.0, 1858.0, 1859.0, 1860.0, 4492.0, 1861.0, 1862.0, 1863.0, 1864.0, 1865.0, 1866.0, 1850.0, 1867.0, 4489.0, 4747.0, 1845.0, 7166.0, 1847.0, 1696.0, 1697.0, 1698.0, 1699.0, 1700.0, 1701.0, 1702.0, 1703.0, 1905.0, 1906.0, 1907.0, 1908.0, 1909.0, 1713.0, 1714.0, 1715.0, 7453.0, 1478.0, 1479.0, 315.0, 313.0, 335.0, 349.0, 404.0, 747.0, 748.0, 749.0, 750.0, 751.0, 752.0, 753.0, 754.0, 755.0, 756.0, 757.0, 758.0, 759.0, 760.0, 761.0, 762.0, 763.0, 767.0]\n"
     ]
    }
   ],
   "source": [
    "stops = []\n",
    "for column in df.columns:\n",
    "    stops.append(df[column].loc[0])\n",
    "print(stops)"
   ]
  },
  {
   "cell_type": "code",
   "execution_count": 49,
   "metadata": {},
   "outputs": [],
   "source": [
    "inputFeatures = []\n",
    "for column in columns:\n",
    "    #print(int(df[column].iloc[0]), int(df[column].iloc[1]))\n",
    "    inputFeatures.append(df[column].iloc[1])"
   ]
  },
  {
   "cell_type": "code",
   "execution_count": 50,
   "metadata": {},
   "outputs": [
    {
     "data": {
      "text/plain": [
       "71"
      ]
     },
     "execution_count": 50,
     "metadata": {},
     "output_type": "execute_result"
    }
   ],
   "source": [
    "#len(inputFeatures)\n",
    "len(df.columns)"
   ]
  },
  {
   "cell_type": "code",
   "execution_count": 51,
   "metadata": {},
   "outputs": [],
   "source": [
    "import numpy as np\n",
    "predictions = new_clf.predict([inputFeatures])"
   ]
  },
  {
   "cell_type": "code",
   "execution_count": 52,
   "metadata": {},
   "outputs": [
    {
     "name": "stdout",
     "output_type": "stream",
     "text": [
      "[22299.69334274 26747.51128906]\n"
     ]
    }
   ],
   "source": [
    "print(predictions[0])"
   ]
  },
  {
   "cell_type": "code",
   "execution_count": 53,
   "metadata": {},
   "outputs": [
    {
     "data": {
      "text/plain": [
       "4447.817946321229"
      ]
     },
     "execution_count": 53,
     "metadata": {},
     "output_type": "execute_result"
    }
   ],
   "source": [
    "predictions[0][-1] - predictions[0][0]"
   ]
  },
  {
   "cell_type": "code",
   "execution_count": 55,
   "metadata": {},
   "outputs": [
    {
     "data": {
      "text/plain": [
       "2092.0"
      ]
     },
     "execution_count": 55,
     "metadata": {},
     "output_type": "execute_result"
    }
   ],
   "source": [
    "df['051_P'].iloc[1] - df['019_P'].iloc[1]"
   ]
  },
  {
   "cell_type": "code",
   "execution_count": null,
   "metadata": {},
   "outputs": [],
   "source": []
  }
 ],
 "metadata": {
  "kernelspec": {
   "display_name": "Python 3",
   "language": "python",
   "name": "python3"
  },
  "language_info": {
   "codemirror_mode": {
    "name": "ipython",
    "version": 3
   },
   "file_extension": ".py",
   "mimetype": "text/x-python",
   "name": "python",
   "nbconvert_exporter": "python",
   "pygments_lexer": "ipython3",
   "version": "3.5.2"
  }
 },
 "nbformat": 4,
 "nbformat_minor": 2
}
